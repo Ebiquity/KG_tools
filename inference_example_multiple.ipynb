{
 "cells": [
  {
   "cell_type": "markdown",
   "metadata": {},
   "source": [
    "This example shows how to execute a set of INSERT querys against a remote RDF triple store to draw simple inferences and add new triples to the database"
   ]
  },
  {
   "cell_type": "code",
   "execution_count": 8,
   "metadata": {},
   "outputs": [],
   "source": [
    "from utilities import number_of_triples, update\n",
    "import os"
   ]
  },
  {
   "cell_type": "markdown",
   "metadata": {},
   "source": [
    "The URL the sparql endpoint may vary depending on the triple store used.  The following works for Stardog.  Note that we specify the database (ckg_test) and also that we may perform updates"
   ]
  },
  {
   "cell_type": "code",
   "execution_count": 9,
   "metadata": {},
   "outputs": [],
   "source": [
    "u_endpoint = \"http://localhost:9090/ckg_test/update\"\n",
    "q_endpoint = \"http://localhost:9090/ckg_test/query\""
   ]
  },
  {
   "cell_type": "code",
   "execution_count": 13,
   "metadata": {},
   "outputs": [
    {
     "name": "stdout",
     "output_type": "stream",
     "text": [
      "Initially 4378400 triples\n"
     ]
    }
   ],
   "source": [
    "initial_triples = triples = number_of_triples(q_endpoint)\n",
    "print('Initially {} triples'.format(triples))"
   ]
  },
  {
   "cell_type": "code",
   "execution_count": 12,
   "metadata": {},
   "outputs": [
    {
     "name": "stdout",
     "output_type": "stream",
     "text": [
      "Running inverseOf.txt\n",
      "Added 0 triples\n",
      "Running symmetricProperty.txt\n",
      "Added 0 triples\n"
     ]
    }
   ],
   "source": [
    "for filename in os.listdir(\"insert_queries\"):\n",
    "    if not filename.endswith(\".txt\"):\n",
    "        continue\n",
    "    query = open(os.path.join(\"insert_queries\", filename)).read()\n",
    "    print('Running', filename)\n",
    "    update(u_endpoint, query)\n",
    "    new = number_of_triples(q_endpoint) - triples\n",
    "    print('Added {} triples'.format(new))\n",
    "    triples += new"
   ]
  },
  {
   "cell_type": "code",
   "execution_count": null,
   "metadata": {},
   "outputs": [],
   "source": [
    "print('Added {} triples'.format(triples - initial_triples))"
   ]
  },
  {
   "cell_type": "code",
   "execution_count": null,
   "metadata": {},
   "outputs": [],
   "source": []
  }
 ],
 "metadata": {
  "kernelspec": {
   "display_name": "Python 3",
   "language": "python",
   "name": "python3"
  },
  "language_info": {
   "codemirror_mode": {
    "name": "ipython",
    "version": 3
   },
   "file_extension": ".py",
   "mimetype": "text/x-python",
   "name": "python",
   "nbconvert_exporter": "python",
   "pygments_lexer": "ipython3",
   "version": "3.8.1"
  }
 },
 "nbformat": 4,
 "nbformat_minor": 2
}
